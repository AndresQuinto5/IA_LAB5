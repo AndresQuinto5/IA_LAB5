{
  "cells": [
    {
      "cell_type": "code",
      "execution_count": 11,
      "metadata": {
        "id": "A09nkVG46UkM"
      },
      "outputs": [],
      "source": [
        "import struct\n",
        "import mmap\n",
        "import numpy\n",
        "import time\n",
        "from PIL import Image\n",
        "import matplotlib.pyplot as plt"
      ]
    },
    {
      "cell_type": "code",
      "execution_count": 12,
      "metadata": {
        "id": "fR6t0aMH6cRa"
      },
      "outputs": [],
      "source": [
        "class Readbmp(object): # leer el bmp\n",
        "    def __init__(self, path):\n",
        "        self.path = path\n",
        "        self.fraction = 20\n",
        "        self.matrix = []\n",
        "\n",
        "        self.read()\n",
        "        self.generateMatrix()\n",
        "        self.generateMatrixZeros()\n",
        "        self.discretization()\n",
        "\n",
        "    def color(self, r, g, b): # definir los colores\n",
        "      return bytes([b, g, r])\n",
        "\n",
        "    def read(self): # recorrer el bmp\n",
        "        self.aux = []\n",
        "        self.processed = []\n",
        "        self.buffer = []\n",
        "\n",
        "        img = open(self.path, \"rb\")\n",
        "        m = mmap.mmap(img.fileno(), 0, access=mmap.ACCESS_READ)\n",
        "        ba = bytearray(m)\n",
        "        header_size = struct.unpack(\"=l\", ba[10:14])[0]\n",
        "        self.width = struct.unpack(\"=l\", ba[18:22])[0]\n",
        "        self.height = struct.unpack(\"=l\", ba[18:22])[0]\n",
        "        all_bytes = ba[header_size::]\n",
        "        self.pixels = numpy.frombuffer(all_bytes, dtype='uint8')\n",
        "        img.close()\n",
        "\n",
        "        for i in range(len(self.pixels)):\n",
        "          self.aux.append(self.pixels[i])\n",
        "          if (len(self.aux) == 3):\n",
        "            color = [self.aux[0], self.aux[1], self.aux[2]]\n",
        "            color = numpy.array(color,numpy.uint8)\n",
        "            color = self.color(self.aux[0], self.aux[1], self.aux[2])\n",
        "            self.processed.append(color)\n",
        "            self.aux = []\n",
        "            if (len(self.processed) == self.width):\n",
        "              self.buffer.append(self.processed)\n",
        "              self.processed = []\n",
        "\n",
        "        return self.buffer\n",
        "\n",
        "    def generateMatrix(self): # genera la matriz para el mapa\n",
        "      self.matrix =  [[self.color(0, 0, 0) for x in range(self.fraction)] for y in range(self.fraction)]\n",
        "\n",
        "    def generateMatrixZeros(self): # aplicamos zeros a la matriz para la discretizacion\n",
        "      self.maze =  [[0 for x in range(self.fraction)] for y in range(self.fraction)]\n",
        "\n",
        "    def discretization(self):\n",
        "      self.startCoor = []\n",
        "      self.endingCoor = []\n",
        "\n",
        "      color = self.color(1, 1, 1)\n",
        "      bff = self.buffer\n",
        "      init_index_x, init_index_y = 0, 0\n",
        "      end_index_x, end_index_y = 29, 29\n",
        "\n",
        "      path_Counter, goal_Counter = 0, 0\n",
        "      indexErr, indexFlag = 0, 0\n",
        "\n",
        "      for big_X in range(self.fraction):\n",
        "        for big_Y in range(self.fraction):\n",
        "          for lil_x in range(init_index_x, end_index_x):\n",
        "            for lil_y in range(init_index_y, end_index_y):\n",
        "\n",
        "              if bff[lil_x][lil_y] == self.color(255, 255, 255):\n",
        "                path_Counter += 1\n",
        "              elif bff[lil_x][lil_y] == self.color(0, 0, 0):\n",
        "                color = ''\n",
        "              elif bff[lil_x][lil_y] == self.color(254, 0, 0):\n",
        "                color = bff[lil_x][lil_y]\n",
        "              else:\n",
        "                goal_Counter += 1\n",
        "\n",
        "          proportion = path_Counter/(29**2)\n",
        "          yIndex = (((big_Y-indexErr)%20)+indexFlag)%20\n",
        "\n",
        "          if proportion >= 0.5:\n",
        "            self.matrix[big_X][yIndex] = self.color(255, 255, 255)\n",
        "            self.maze[big_X][yIndex] = 0\n",
        "\n",
        "          elif goal_Counter > 50 and not color:\n",
        "            self.matrix[big_X][yIndex] = self.color(5, 252, 6)\n",
        "            self.endingCoor.append([big_X, yIndex])\n",
        "\n",
        "          elif color:\n",
        "            self.matrix[big_X][yIndex] = color\n",
        "            self.startCoor = [big_X, yIndex]\n",
        "\n",
        "          else:\n",
        "            self.matrix[big_X][yIndex] = self.color(0, 0, 0)\n",
        "            self.maze[big_X][yIndex] = 1\n",
        "\n",
        "          init_index_y += 29\n",
        "          end_index_y += 29\n",
        "          path_Counter = 0\n",
        "          goal_Counter = 0\n",
        "\n",
        "        indexErr += 1\n",
        "        if indexErr >= 4:\n",
        "          indexFlag = 2\n",
        "        if indexErr >= 8:\n",
        "          indexFlag = 3\n",
        "        if indexErr >= 16:\n",
        "          indexFlag = 5\n",
        "\n",
        "        init_index_y = 0\n",
        "        end_index_y = 29\n",
        "        init_index_x += 29\n",
        "        end_index_x += 29\n",
        "\n",
        "    def make_step(self, k, m): #\n",
        "      a = self.maze\n",
        "      for i in range(len(m)):\n",
        "        for j in range(len(m[i])):\n",
        "          if m[i][j] == k:\n",
        "            if i>0 and m[i-1][j] == 0 and a[i-1][j] == 0:\n",
        "              m[i-1][j] = k + 1\n",
        "            if j>0 and m[i][j-1] == 0 and a[i][j-1] == 0:\n",
        "              m[i][j-1] = k + 1\n",
        "            if i<len(m)-1 and m[i+1][j] == 0 and a[i+1][j] == 0:\n",
        "              m[i+1][j] = k + 1\n",
        "            if j<len(m[i])-1 and m[i][j+1] == 0 and a[i][j+1] == 0:\n",
        "              m[i][j+1] = k + 1\n",
        "\n",
        "\n",
        "    def bfs(self): # breadth first search\n",
        "      maze = self.maze\n",
        "      start, ending = self.startCoor, self.endingCoor\n",
        "      self.pathCost = []\n",
        "      self.paths = []\n",
        "\n",
        "      for e in ending:\n",
        "\n",
        "        m = []\n",
        "        for i in range(len(maze)):\n",
        "            m.append([])\n",
        "            for j in range(len(maze[i])):\n",
        "                m[-1].append(0)\n",
        "        i,j = start\n",
        "        m[i][j] = 1\n",
        "\n",
        "        k = 0\n",
        "        max_iter = 10000;\n",
        "        while m[e[0]][e[1]] == 0 and max_iter > 0:\n",
        "          k += 1\n",
        "          self.make_step(k, m)\n",
        "          max_iter-=1\n",
        "\n",
        "        i, j = e\n",
        "        k = m[i][j]\n",
        "        the_path = [(i,j)]\n",
        "\n",
        "        while k > 1:\n",
        "          if i > 0 and m[i - 1][j] == k-1:\n",
        "            i, j = i-1, j\n",
        "            the_path.append((i, j))\n",
        "            k-=1\n",
        "\n",
        "          elif j > 0 and m[i][j - 1] == k-1:\n",
        "            i, j = i, j-1\n",
        "            the_path.append((i, j))\n",
        "            k-=1\n",
        "\n",
        "          elif i < len(m) - 1 and m[i + 1][j] == k-1:\n",
        "            i, j = i+1, j\n",
        "            the_path.append((i, j))\n",
        "            k-=1\n",
        "\n",
        "          elif j < len(m[i]) - 1 and m[i][j + 1] == k-1:\n",
        "            i, j = i, j+1\n",
        "            the_path.append((i, j))\n",
        "            k -= 1\n",
        "\n",
        "\n",
        "        self.pathCost.append(len(the_path))\n",
        "        self.paths.append(the_path)\n",
        "\n",
        "      min_val = min(self.pathCost)\n",
        "      min_index = self.pathCost.index(min_val)\n",
        "\n",
        "      return self.paths[min_index]\n",
        "\n",
        "    def resultPath(self): # colorear el path\n",
        "      min_path = self.bfs()\n",
        "      for coord in min_path:\n",
        "        self.matrix[coord[0]][coord[1]] = self.color(255, 0, 255)\n",
        "      self.matrix[min_path[0][0]][min_path[0][1]] = self.color(5, 252, 6)\n",
        "      self.matrix[coord[0]][coord[1]] = self.color = self.color(254, 0, 0)\n"
      ]
    },
    {
      "cell_type": "code",
      "execution_count": 16,
      "metadata": {},
      "outputs": [],
      "source": [
        "class Writebmp(object): # output bmp\n",
        "\n",
        "  def char(self, c): # string a char ascii de 1 byte\n",
        "    return struct.pack('=c', c.encode('ascii'))\n",
        "\n",
        "  def word(self, w): # string a word de 2 bytes\n",
        "    return struct.pack('=h', w)\n",
        "\n",
        "  def dword(self, d): # string a double word de 4 bytes\n",
        "    return struct.pack('=l', d)\n",
        "\n",
        "  def toBytes(self, r,g,b): # codificar color\n",
        "      r = int(max(min(r, 255), 0))\n",
        "      g = int(max(min(g, 255), 0))\n",
        "      b = int(max(min(b, 255), 0))\n",
        "      return bytes([b, g, r])\n",
        "\n",
        "  def writebmp(self, filename, width, height, pixels): # escribir el bmp\n",
        "    f = open(filename, 'bw')\n",
        "\n",
        "    f.write(self.char('B'))\n",
        "    f.write(self.char('M'))\n",
        "    f.write(self.dword(14 + 40 + width * height * 3))\n",
        "    f.write(self.dword(0))\n",
        "    f.write(self.dword(14 + 40))\n",
        "    f.write(self.dword(40))\n",
        "    f.write(self.dword(width))\n",
        "    f.write(self.dword(height))\n",
        "    f.write(self.word(1))\n",
        "    f.write(self.word(24))\n",
        "    f.write(self.dword(0))\n",
        "    f.write(self.dword(width * height * 3))\n",
        "    f.write(self.dword(0))\n",
        "    f.write(self.dword(0))\n",
        "    f.write(self.dword(0))\n",
        "    f.write(self.dword(0))\n",
        "\n",
        "    for x in range(height):\n",
        "      for y in range(width):\n",
        "        f.write(pixels[x][y])\n",
        "\n",
        "    f.close()"
      ]
    },
    {
      "cell_type": "code",
      "execution_count": 17,
      "metadata": {
        "colab": {
          "base_uri": "https://localhost:8080/",
          "height": 430
        },
        "id": "USQdMCp86fRQ",
        "outputId": "1ca683a9-d265-4165-d297-612d3e504242"
      },
      "outputs": [
        {
          "data": {
            "image/png": "[encoded data removed]",
            "text/plain": [
              "<Figure size 640x480 with 1 Axes>"
            ]
          },
          "metadata": {},
          "output_type": "display_data"
        }
      ],
      "source": [
        "reader = Readbmp(\"content/Test0.bmp\")\n",
        "writer = Writebmp()\n",
        "reader.resultPath()\n",
        "writer.writebmp(\"results/result0.bmp\", reader.fraction, reader.fraction, reader.matrix)\n",
        "\n",
        "img= Image.open('result0.bmp')\n",
        "result0 = img.convert(mode=\"L\")\n",
        "plt.imshow(result0)\n",
        "plt.show()"
      ]
    },
    {
      "cell_type": "markdown",
      "metadata": {},
      "source": [
        "![Test0](content/Test0.bmp)\n"
      ]
    },
    {
      "cell_type": "code",
      "execution_count": 14,
      "metadata": {
        "colab": {
          "base_uri": "https://localhost:8080/",
          "height": 430
        },
        "id": "oUjJAP_B_-fl",
        "outputId": "af777c82-dc6a-4d82-fa29-187371f20609"
      },
      "outputs": [
        {
          "data": {
            "image/png": "[encoded data removed]",
            "text/plain": [
              "<Figure size 640x480 with 1 Axes>"
            ]
          },
          "metadata": {},
          "output_type": "display_data"
        }
      ],
      "source": [
        "reader = Readbmp(\"content/Test1.bmp\")\n",
        "writer = Writebmp()\n",
        "reader.resultPath()\n",
        "writer.writebmp(\"results/result1.bmp\", reader.fraction, reader.fraction, reader.matrix)\n",
        "\n",
        "img= Image.open('result1.bmp')\n",
        "result1 = img.convert(mode=\"L\")\n",
        "plt.imshow(result1)\n",
        "plt.show()"
      ]
    },
    {
      "cell_type": "markdown",
      "metadata": {},
      "source": [
        "![Test1](content/Test1.bmp)"
      ]
    },
    {
      "cell_type": "code",
      "execution_count": 15,
      "metadata": {
        "colab": {
          "base_uri": "https://localhost:8080/",
          "height": 430
        },
        "id": "fE8f55cHAAY0",
        "outputId": "6a6b6936-9e33-492d-b089-3f01a1f880da"
      },
      "outputs": [
        {
          "data": {
            "image/png": "[encoded data removed]",
            "text/plain": [
              "<Figure size 640x480 with 1 Axes>"
            ]
          },
          "metadata": {},
          "output_type": "display_data"
        }
      ],
      "source": [
        "reader = Readbmp(\"content/Test2.bmp\")\n",
        "writer = Writebmp()\n",
        "reader.resultPath()\n",
        "writer.writebmp(\"results/result2.bmp\", reader.fraction, reader.fraction, reader.matrix)\n",
        "\n",
        "img= Image.open('result2.bmp')\n",
        "result2 = img.convert(mode=\"L\")\n",
        "plt.imshow(result2)\n",
        "plt.show()"
      ]
    },
    {
      "cell_type": "markdown",
      "metadata": {},
      "source": [
        "![Test2](content/Test2.bmp)"
      ]
    },
    {
      "cell_type": "markdown",
      "metadata": {
        "id": "WkgebMOqRZgj"
      },
      "source": [
        "Referencias\n",
        "\n",
        "* https://www.appsloveworld.com/coding/python3x/6/reading-bmp-files-in-python\n",
        "\n",
        "*  https://favtutor.com/blogs/breadth-first-search-python"
      ]
    }
  ],
  "metadata": {
    "colab": {
      "provenance": []
    },
    "kernelspec": {
      "display_name": "Python 3",
      "name": "python3"
    },
    "language_info": {
      "codemirror_mode": {
        "name": "ipython",
        "version": 3
      },
      "file_extension": ".py",
      "mimetype": "text/x-python",
      "name": "python",
      "nbconvert_exporter": "python",
      "pygments_lexer": "ipython3",
      "version": "3.11.7"
    }
  },
  "nbformat": 4,
  "nbformat_minor": 0
}
